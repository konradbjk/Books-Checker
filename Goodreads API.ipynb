{
 "cells": [
  {
   "cell_type": "markdown",
   "metadata": {},
   "source": [
    "# Goodreads\n",
    "Goodreads is the world’s largest site for readers and book recommendations. Our mission is to help people find and share books they love. Goodreads launched in January 2007.\n",
    "\n",
    "## A Few Things You Can Do On Goodreads\n",
    "\n",
    "* See what books your friends are reading.\n",
    "* Track the books you're reading, have read, and want to read.\n",
    "* Check out your personalized book recommendations. Our recommendation engine analyzes 20 billion data points to give suggestions tailored to your literary tastes.\n",
    "* Find out if a book is a good fit for you from our community’s reviews.\n"
   ]
  },
  {
   "cell_type": "markdown",
   "metadata": {},
   "source": [
    "## Code\n",
    "Below you can find the code, in this example I decided to build a function that will get the book's review by the title and author."
   ]
  },
  {
   "cell_type": "code",
   "execution_count": null,
   "metadata": {},
   "outputs": [],
   "source": [
    "import requests\n",
    "import json\n",
    "import xml.etree.ElementTree as ET\n",
    "import config\n",
    "from bs4 import BeautifulSoup\n",
    "\n",
    "api_key = config.api_key\n",
    "secret_key = config.secret_key"
   ]
  },
  {
   "cell_type": "markdown",
   "metadata": {},
   "source": [
    "### Test connection\n",
    "Let us thest the connection if we are receiving the response while calling for a concrete title"
   ]
  },
  {
   "cell_type": "code",
   "execution_count": null,
   "metadata": {},
   "outputs": [],
   "source": [
    "response = requests.get('http://www.goodreads.com/book/title.xml' + '?key=' + api_key + '&title=' + 'The Sixth Man' + '&author=Andre Iguodala' )"
   ]
  },
  {
   "cell_type": "code",
   "execution_count": null,
   "metadata": {},
   "outputs": [],
   "source": [
    "print(response.content.decode('utf-8'))"
   ]
  },
  {
   "cell_type": "markdown",
   "metadata": {},
   "source": [
    "## Review the response\n",
    "While reviewing the response from the Goodreads we can see XML scheme. I found ElementTree package especially usefull  to process XML response. \n",
    "We parse the HTTPS response into ElementTree and decode it as 'utf-8' to get our root element.\n",
    "```python\n",
    "root = ET.fromstring(response.content.decode('utf-8'))\n",
    "```\n",
    "While running\n",
    "```python\n",
    "root.getchildren()\n",
    "```\n",
    "We can see that there are two main elements.\n",
    "```bash\n",
    "[<Element 'Request' at 0x00000198BE1368B8>,\n",
    " <Element 'book' at 0x00000198BE136D18>\n",
    "```\n",
    "The request element will contain information about authentication and method used as in usual response. However the book element contains everything that we need. In this case I recommend to focus only on this one, so I will overwrite the root element.\n",
    "```python\n",
    "root = root.find('book')\n",
    "```\n"
   ]
  },
  {
   "cell_type": "code",
   "execution_count": null,
   "metadata": {},
   "outputs": [],
   "source": [
    "root = ET.fromstring(response.content.decode('utf-8'))\n",
    "root = root.find('book')"
   ]
  },
  {
   "cell_type": "markdown",
   "metadata": {},
   "source": [
    "### Check the possible tags\n",
    "Now we need to check which tags can be used and which data can we extract.\n",
    "```python\n",
    "root.getchildren()\n",
    "```\n",
    "We can see list of nodes:\n",
    "```bash\n",
    "<Element 'id' at 0x000001CA305127C8>,\n",
    " <Element 'title' at 0x000001CA30512778>,\n",
    " <Element 'isbn' at 0x000001CA305125E8>,\n",
    " <Element 'isbn13' at 0x000001CA305126D8>,\n",
    " <Element 'asin' at 0x000001CA30512688>,\n",
    " <Element 'kindle_asin' at 0x000001CA30512638>,\n",
    " <Element 'marketplace_id' at 0x000001CA305124A8>,\n",
    " <Element 'country_code' at 0x000001CA30512598>,\n",
    " <Element 'image_url' at 0x000001CA30512548>,\n",
    " <Element 'small_image_url' at 0x000001CA305124F8>,\n",
    " <Element 'publication_year' at 0x000001CA30512368>,\n",
    " <Element 'publication_month' at 0x000001CA30512458>,\n",
    " <Element 'publication_day' at 0x000001CA30512408>,\n",
    " <Element 'publisher' at 0x000001CA305123B8>,\n",
    " <Element 'language_code' at 0x000001CA30512228>,\n",
    " <Element 'is_ebook' at 0x000001CA30512318>,\n",
    " <Element 'description' at 0x000001CA305122C8>,\n",
    " <Element 'work' at 0x000001CA30512278>,\n",
    " <Element 'average_rating' at 0x000001CA3050BB38>,\n",
    " <Element 'num_pages' at 0x000001CA3050BAE8>,\n",
    " <Element 'format' at 0x000001CA3050BA98>,\n",
    " <Element 'edition_information' at 0x000001CA3050BA48>,\n",
    " <Element 'ratings_count' at 0x000001CA3050B9F8>,\n",
    " <Element 'text_reviews_count' at 0x000001CA3050B9A8>,\n",
    " <Element 'url' at 0x000001CA3050B958>,\n",
    " <Element 'link' at 0x000001CA3050B908>,\n",
    " <Element 'authors' at 0x000001CA3050B868>,\n",
    " <Element 'reviews_widget' at 0x000001CA3050B408>,\n",
    " <Element 'popular_shelves' at 0x000001CA3051ECC8>,\n",
    " <Element 'book_links' at 0x000001CA3051EF48>,\n",
    " <Element 'buy_links' at 0x000001CA30505138>,\n",
    " <Element 'series_works' at 0x000001CA305110E8>\n",
    "```\n",
    "To get value of the node we need to call additionally the text method, otherwise we will receive only node id.\n",
    "```python\n",
    "title = root.find('title').text\n",
    "```\n",
    "Some of those nodes were nested. We can check them by finding this tag and runing a search in it i.e.:\n",
    "```python\n",
    "year = root.find('work').find('original_publication_year').text\n",
    "```\n",
    "\n",
    "Let us start with extraction of the book rating and its title."
   ]
  },
  {
   "cell_type": "code",
   "execution_count": null,
   "metadata": {},
   "outputs": [],
   "source": [
    "name = root.find('title').text\n",
    "rating = root.find('average_rating').text\n",
    "print(name, rating)"
   ]
  },
  {
   "cell_type": "markdown",
   "metadata": {},
   "source": [
    "After testing it, we can now wrap it into a function **get_book_rating** that takes one parameter which is root element.\n",
    "The same we can do afterwards with description and publication year."
   ]
  },
  {
   "cell_type": "code",
   "execution_count": null,
   "metadata": {},
   "outputs": [],
   "source": [
    "def get_book_rating(book):\n",
    "    title = book.find('title').text\n",
    "    rating = book.find('average_rating').text\n",
    "    return title, rating"
   ]
  },
  {
   "cell_type": "code",
   "execution_count": null,
   "metadata": {},
   "outputs": [],
   "source": [
    "get_book_rating(root)"
   ]
  },
  {
   "cell_type": "code",
   "execution_count": null,
   "metadata": {},
   "outputs": [],
   "source": [
    "def get_book_description(title, author):\n",
    "    response = requests.get('http://www.goodreads.com/book/title.xml' + '?key=' + api_key + '&title=' + title + '&author=' + author)\n",
    "    root = ET.fromstring(response.content.decode('utf-8'))\n",
    "    for book in root.findall('book'):\n",
    "        title = book.find('title').text\n",
    "        description = book.find('description').text\n",
    "        return title, description"
   ]
  },
  {
   "cell_type": "code",
   "execution_count": null,
   "metadata": {},
   "outputs": [],
   "source": [
    "get_book_description('the cambridge mysteries', 'Barbara Cleverly')"
   ]
  },
  {
   "cell_type": "code",
   "execution_count": null,
   "metadata": {},
   "outputs": [],
   "source": [
    "def get_book_year(root):\n",
    "    for book in root.findall('book'):\n",
    "        title = book.find('title').text\n",
    "        for work in book.find('work'):\n",
    "            year = work.find('original_publication_year').text\n",
    "        return title, year"
   ]
  },
  {
   "cell_type": "code",
   "execution_count": null,
   "metadata": {},
   "outputs": [],
   "source": [
    "get_book_year(root)"
   ]
  },
  {
   "cell_type": "markdown",
   "metadata": {},
   "source": [
    "While playing with the above code we might find that description contains HTML formating such as ```<b>``` or ```\\n```. This is why I implemented bs4 extraction of the text from response. For some cases you might find that there was thrown an error due to empty tag. This is the reason why I implemented also try-except.\n",
    "```python\n",
    "    try:\n",
    "        soup = BeautifulSoup(response.find('description').text)\n",
    "        description = soup.get_text().replace('\\n','')\n",
    "    except: \n",
    "        description = None\n",
    "        print('There was an error while processing the description')\n",
    "```"
   ]
  },
  {
   "cell_type": "markdown",
   "metadata": {},
   "source": [
    "### Final function\n",
    "Below you can find the final functions and sample implementation "
   ]
  },
  {
   "cell_type": "code",
   "execution_count": null,
   "metadata": {},
   "outputs": [],
   "source": [
    "def get_response(title, author, api_key=api_key):\n",
    "    \"\"\"This function will querry GoodReads for books, based on the provided title and author. \n",
    "    It returns a respons as utf-8 ElementTree.\n",
    "    By default it will use API key saved under api_key variable.\"\"\"\n",
    "    response = requests.get('http://www.goodreads.com/book/title.xml' + '?key=' + api_key + '&title=' + title + '&author=' + author)\n",
    "    root = ET.fromstring(response.content.decode('utf-8'))\n",
    "    root = root.find('book')\n",
    "    \n",
    "    return root\n",
    "\n",
    "def get_book_data(response):\n",
    "    \"\"\"This function fetches all important data based on the parameter response. \n",
    "    It returns as string: title, authors, rating, number of ratings, year of original publication, description and link to cover image.\"\"\"\n",
    "    title = response.find('title').text\n",
    "    rating = response.find('average_rating').text\n",
    "    try:\n",
    "        soup = BeautifulSoup(response.find('description').text)\n",
    "        description = soup.get_text().replace('\\n','')\n",
    "    except: \n",
    "        description = None\n",
    "        print('There was an error while processing the description')\n",
    "    image_url = response.find('image_url').text\n",
    "    #for work in response.find('work'):\n",
    "    year = response.find('work').find('original_publication_year').text\n",
    "    ratings_count = response.find('work').find('ratings_count').text\n",
    "    pages = response.find('num_pages').text\n",
    "    authors = []\n",
    "    for author in response.find('authors'):\n",
    "        author = author.find('name').text\n",
    "        authors.append(author)\n",
    "    str_authors = str(authors).strip(\"[]\").replace(\"'\",\"\")\n",
    "    \n",
    "    return title, str_authors, rating, ratings_count, year, pages, description, image_url"
   ]
  },
  {
   "cell_type": "code",
   "execution_count": null,
   "metadata": {},
   "outputs": [],
   "source": [
    "root = get_response('The Cambridge Mysteries', 'Barbara Cleverly')\n",
    "get_book_data(root)"
   ]
  }
 ],
 "metadata": {
  "kernelspec": {
   "display_name": "Python 3",
   "language": "python",
   "name": "python3"
  },
  "language_info": {
   "codemirror_mode": {
    "name": "ipython",
    "version": 3
   },
   "file_extension": ".py",
   "mimetype": "text/x-python",
   "name": "python",
   "nbconvert_exporter": "python",
   "pygments_lexer": "ipython3",
   "version": "3.6.6"
  }
 },
 "nbformat": 4,
 "nbformat_minor": 2
}
